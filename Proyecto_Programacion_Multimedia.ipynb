{
 "cells": [
  {
   "cell_type": "markdown",
   "id": "2bd9dd4c",
   "metadata": {},
   "source": [
    "# Instrucciones de uso:\n",
    "## Es necesario contar con las siguientes librerias, vienen con los comandos necesarios para poder ser instaladas:\n",
    "+ Altair: pip3 install altair\n",
    "+ Numpy: pip3 install numpy\n",
    "+ Pandas: pip3 install pandas\n",
    "+ Ipywidgets: pip3 install ipywidgets\n",
    "\n",
    "### Es necesario presionar repetidas ocasiones el boton de play para que se vaya formando con mas claridad la distribucion normal\n",
    "\n",
    "### El proposito del presente proyecto es animar una distribucion normal generando datos aleatorios con ayuda de numpy, se puede encontrar este mismo cuadernillo de trabajo en el siguiente repositorio remoto:\n",
    "\n",
    "-> https://github.com/FernandoAdrianAndrade/ProyectoMultimedia.git"
   ]
  },
  {
   "cell_type": "markdown",
   "id": "5b3333d0",
   "metadata": {},
   "source": [
    "# Importamos nuestras bibliotecas necesarias para realizar la animación."
   ]
  },
  {
   "cell_type": "code",
   "execution_count": 1,
   "id": "03aaea68",
   "metadata": {},
   "outputs": [],
   "source": [
    "import altair\n",
    "import numpy \n",
    "import pandas\n",
    "import ipywidgets"
   ]
  },
  {
   "cell_type": "code",
   "execution_count": 2,
   "id": "e9fc8015",
   "metadata": {},
   "outputs": [],
   "source": [
    "altair.themes.enable('opaque') #Damos el tema de colores\n",
    "\n",
    "''' Aqui generamos nuestro dataframe y escogemos una semilla para generar nuestros datos'''\n",
    "\n",
    "newmean=pandas.DataFrame([], columns=['newmean'])\n",
    "newvar=pandas.DataFrame([0], columns=['newvar'])\n",
    "numpy.random.seed(10)\n",
    "popsize=100\n",
    "\n",
    "source = pandas.DataFrame({'males': numpy.random.normal(0, 1, popsize)})\n",
    "source = pandas.melt(source, id_vars=source.index.name, value_vars=source.columns, var_name='Experiment', value_name='Measurement')"
   ]
  },
  {
   "cell_type": "markdown",
   "id": "44693d02",
   "metadata": {},
   "source": [
    "## En esta parte se definen las funciones que se encargara de hacer nuestra graficación como irlas guardando en un arreglo para animarlo luego."
   ]
  },
  {
   "cell_type": "code",
   "execution_count": 3,
   "id": "2abef659",
   "metadata": {},
   "outputs": [],
   "source": [
    "def ani(source, newmean, newvar, popsize):\n",
    "    \n",
    "    newsamp=source.sample(frac=10/popsize, replace=True)\n",
    "\n",
    "    s=altair.Chart(newsamp).mark_bar(\n",
    "        opacity=0.7,\n",
    "        color='gold',\n",
    "    ).encode(\n",
    "        altair.X('Measurement', title='Sujeto', bin=altair.Bin(maxbins=10)),\n",
    "        altair.Y('count()', title = 'Valor de x'),\n",
    "    ).properties(title='Muestreo')\n",
    "\n",
    "    newmean=newmean.append({'newmean': newsamp.mean()[0]}, ignore_index=True)\n",
    "\n",
    "    m=altair.Chart(newmean).mark_bar(\n",
    "        opacity=0.7,\n",
    "        color='blue',\n",
    "    ).encode(\n",
    "        altair.X('newmean', title='Distribución', bin=altair.Bin(maxbins=50)),\n",
    "        altair.Y('count()', title = 'Tabla de records'),\n",
    "    ).properties()\n",
    "\n",
    "    v=altair.Chart(pandas.DataFrame([newmean.var()[0]], columns=['newvar'])).mark_text(\n",
    "        color='red',\n",
    "        size=20\n",
    "    ).encode(\n",
    "        text=altair.Text('newvar', format='.4')\n",
    "    ).properties(title='Variacion de x')\n",
    "\n",
    "    res=altair.hconcat(s,m)\n",
    "    \n",
    "    return res, newmean, newvar\n",
    "\n",
    "def demo(i):\n",
    "    global newmean\n",
    "    global newvar\n",
    "    res, newmean, newvar=ani(source, newmean, newvar, popsize)\n",
    "    return res\n"
   ]
  },
  {
   "cell_type": "markdown",
   "id": "b19a1ce6",
   "metadata": {},
   "source": [
    "# En esta parte se empieza la animación como tal."
   ]
  },
  {
   "cell_type": "code",
   "execution_count": 4,
   "id": "b42dc336",
   "metadata": {
    "scrolled": true
   },
   "outputs": [
    {
     "data": {
      "application/vnd.jupyter.widget-view+json": {
       "model_id": "e4d61f1e76a9420e82d07cb7cb42b4e0",
       "version_major": 2,
       "version_minor": 0
      },
      "text/plain": [
       "interactive(children=(Play(value=10, description='Press play', max=10), Output()), _dom_classes=('widget-inter…"
      ]
     },
     "metadata": {},
     "output_type": "display_data"
    },
    {
     "data": {
      "text/plain": [
       "<function __main__.demo(i)>"
      ]
     },
     "execution_count": 4,
     "metadata": {},
     "output_type": "execute_result"
    }
   ],
   "source": [
    "ipywidgets.interact(demo, i = ipywidgets.Play(\n",
    "    value=10,\n",
    "    min=0,\n",
    "    max=10,\n",
    "    step=1,\n",
    "    description=\"Press play\",\n",
    "    disabled=False))"
   ]
  },
  {
   "cell_type": "code",
   "execution_count": null,
   "id": "4dc0ffe0",
   "metadata": {},
   "outputs": [],
   "source": []
  }
 ],
 "metadata": {
  "kernelspec": {
   "display_name": "Python 3",
   "language": "python",
   "name": "python3"
  },
  "language_info": {
   "codemirror_mode": {
    "name": "ipython",
    "version": 3
   },
   "file_extension": ".py",
   "mimetype": "text/x-python",
   "name": "python",
   "nbconvert_exporter": "python",
   "pygments_lexer": "ipython3",
   "version": "3.9.5"
  }
 },
 "nbformat": 4,
 "nbformat_minor": 5
}
